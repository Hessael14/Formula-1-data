{
 "cells": [
  {
   "cell_type": "code",
   "execution_count": null,
   "id": "eda735d8",
   "metadata": {},
   "outputs": [],
   "source": [
    "import requests\n",
    "import json"
   ]
  },
  {
   "cell_type": "code",
   "execution_count": null,
   "id": "2d1109bb",
   "metadata": {},
   "outputs": [],
   "source": [
    "url= url='https://ergast.com/api/f1/2022/21.json'\n",
    "response= requests.get(url)\n",
    "response.content\n",
    "\n",
    "content=json.loads(response.content)"
   ]
  },
  {
   "cell_type": "code",
   "execution_count": null,
   "id": "83fd971c",
   "metadata": {},
   "outputs": [],
   "source": [
    "content.keys()\n",
    "content['MRData'].keys()\n",
    "content['MRData']['RaceTable']['Races'][0]"
   ]
  }
 ],
 "metadata": {
  "kernelspec": {
   "display_name": "Python 3 (ipykernel)",
   "language": "python",
   "name": "python3"
  },
  "language_info": {
   "codemirror_mode": {
    "name": "ipython",
    "version": 3
   },
   "file_extension": ".py",
   "mimetype": "text/x-python",
   "name": "python",
   "nbconvert_exporter": "python",
   "pygments_lexer": "ipython3",
   "version": "3.9.13"
  }
 },
 "nbformat": 4,
 "nbformat_minor": 5
}
